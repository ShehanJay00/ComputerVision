{
 "cells": [
  {
   "cell_type": "code",
   "execution_count": 2,
   "id": "96e47184-35fb-410e-a9e3-e1e442d9d299",
   "metadata": {},
   "outputs": [],
   "source": [
    "import cv2\n",
    "import numpy as np\n",
    "\n",
    "# Create a function based on a CV2 Event (Left button click)\n",
    "def draw_circle(event,x,y,flags,param):\n",
    "    if event == cv2.EVENT_LBUTTONDOWN:\n",
    "        cv2.circle(img,(x,y),10,(0,255,0),-1)\n",
    "\n",
    "\n",
    "# Create a black image\n",
    "img = np.zeros((512,512,3), np.uint8)\n",
    "\n",
    "# This names the window so we can reference it \n",
    "cv2.namedWindow(winname='my_drawing')\n",
    "\n",
    "# Connects the mouse button to our callback function\n",
    "cv2.setMouseCallback('my_drawing',draw_circle)\n",
    "\n",
    "while True: \n",
    "    cv2.imshow('my_drawing',img)\n",
    "    \n",
    "    if cv2.waitKey(20) & 0xFF == 27:\n",
    "        break\n",
    "        \n",
    "# Once script is done, its usually good practice to call this line\n",
    "# It closes all windows (just in case you have multiple windows called)\n",
    "cv2.destroyAllWindows()"
   ]
  },
  {
   "cell_type": "raw",
   "id": "52579fd1-b915-48ab-bf16-4425f276ed6c",
   "metadata": {},
   "source": [
    "Using np.zeros() to create a black image is simply a way to initialize an image array where all pixel values are set to 0."
   ]
  },
  {
   "cell_type": "raw",
   "id": "72d83c26-3bbe-4195-b494-3884fd4da773",
   "metadata": {},
   "source": [
    "The function draw_circle is called whenever a mouse event occurs."
   ]
  },
  {
   "cell_type": "raw",
   "id": "00082c5e-ef96-4a7b-938a-85519f6506fe",
   "metadata": {},
   "source": [
    "Then sets up a window named 'my_drawing' and connects the mouse event callback function draw_circle to this window."
   ]
  },
  {
   "cell_type": "raw",
   "id": "aadd13bc-389a-44c4-ac6d-dfa3a517cc63",
   "metadata": {},
   "source": [
    "x: This parameter represents the x-coordinate of the mouse pointer when the event occurred.\n",
    "y: This parameter represents the y-coordinate of the mouse pointer when the event occurred."
   ]
  },
  {
   "cell_type": "raw",
   "id": "be29dade-e048-4e2e-a837-3feb47f615c6",
   "metadata": {},
   "source": [
    "np.uint8 indicates that each element in the array can hold integer values ranging from 0 to 255. "
   ]
  },
  {
   "cell_type": "code",
   "execution_count": null,
   "id": "84b01def-4972-4f67-bda9-69c332c63107",
   "metadata": {},
   "outputs": [],
   "source": []
  },
  {
   "cell_type": "code",
   "execution_count": null,
   "id": "eb5d15ab-c284-46b4-80c1-b3ae5e6570cf",
   "metadata": {},
   "outputs": [],
   "source": []
  },
  {
   "cell_type": "code",
   "execution_count": 1,
   "id": "6ab9e418-d5f3-490a-99dd-2cf54a10ab3c",
   "metadata": {},
   "outputs": [],
   "source": [
    "import cv2\n",
    "import numpy as np\n",
    "\n",
    "\n",
    "def draw_circle(event,x,y,flags,param):\n",
    "    if event == cv2.EVENT_LBUTTONDOWN:\n",
    "        cv2.circle(img,(x,y),10,(0,255,0),-1)\n",
    "        \n",
    "    elif event == cv2.EVENT_RBUTTONDOWN:\n",
    "        cv2.circle(img,(x,y),10,(0,0,255),-1)\n",
    "        \n",
    "\n",
    "img = np.zeros((512,512,3), np.uint8)\n",
    "\n",
    "cv2.namedWindow(winname='my_drawing')\n",
    "\n",
    "cv2.setMouseCallback('my_drawing',draw_circle)\n",
    "\n",
    "while True:\n",
    "    \n",
    "    cv2.imshow('my_drawing',img)\n",
    "\n",
    "    if cv2.waitKey(20) & 0xFF == 27:\n",
    "        break\n",
    "\n",
    "cv2.destroyAllWindows()"
   ]
  },
  {
   "cell_type": "code",
   "execution_count": null,
   "id": "ff86ef1e-8dd2-46d0-9227-30d891f3602d",
   "metadata": {},
   "outputs": [],
   "source": []
  },
  {
   "cell_type": "code",
   "execution_count": null,
   "id": "f6b0449b-49f6-455d-bf15-5f5892eee8b3",
   "metadata": {},
   "outputs": [],
   "source": []
  },
  {
   "cell_type": "markdown",
   "id": "1a116b35-c1cd-42e7-8213-d855e5ed5432",
   "metadata": {},
   "source": [
    "## Drag Mouse and Draw"
   ]
  },
  {
   "cell_type": "code",
   "execution_count": 1,
   "id": "2dff6948-4083-4118-a0d1-2072b539bb5a",
   "metadata": {},
   "outputs": [],
   "source": [
    "import cv2\n",
    "import numpy as np\n",
    "\n",
    "\n",
    "\n",
    "drawing = False # True if mouse is pressed\n",
    "ix = -1\n",
    "iy = -1\n",
    "\n",
    "# mouse callback function\n",
    "def draw_rectangle(event,x,y,flags,param):\n",
    "    global ix,iy,drawing,mode\n",
    "\n",
    "    if event == cv2.EVENT_LBUTTONDOWN:\n",
    "        # When you click DOWN with left mouse button drawing is set to True\n",
    "        drawing = True\n",
    "        # Then we take note of where that mouse was located\n",
    "        ix,iy = x,y\n",
    "\n",
    "    elif event == cv2.EVENT_MOUSEMOVE:\n",
    "        # Now the mouse is moving\n",
    "        if drawing == True:\n",
    "            # If drawing is True, it means you've already clicked on the left mouse button\n",
    "            # We draw a rectangle from the previous position to the x,y where the mouse is\n",
    "            cv2.rectangle(img,(ix,iy),(x,y),(0,255,0),-1)\n",
    "\n",
    "    elif event == cv2.EVENT_LBUTTONUP:\n",
    "        # Once you lift the mouse button, drawing is False\n",
    "        drawing = False\n",
    "        # we complete the rectangle.\n",
    "        cv2.rectangle(img,(ix,iy),(x,y),(0,255,0),-1)\n",
    "        \n",
    "        \n",
    "\n",
    "\n",
    "img = np.zeros((512,512,3), np.uint8)\n",
    "\n",
    "cv2.namedWindow(winname='my_drawing')\n",
    "\n",
    "cv2.setMouseCallback('my_drawing',draw_rectangle)\n",
    "\n",
    "while True:\n",
    "    cv2.imshow('my_drawing',img)\n",
    "\n",
    "    if cv2.waitKey(1) & 0xFF == 27:\n",
    "        break\n",
    "\n",
    "cv2.destroyAllWindows()"
   ]
  },
  {
   "cell_type": "code",
   "execution_count": null,
   "id": "f0e451f4-a3b7-4d8b-b9cc-c76162fe3279",
   "metadata": {},
   "outputs": [],
   "source": []
  }
 ],
 "metadata": {
  "kernelspec": {
   "display_name": "Python 3 (ipykernel)",
   "language": "python",
   "name": "python3"
  },
  "language_info": {
   "codemirror_mode": {
    "name": "ipython",
    "version": 3
   },
   "file_extension": ".py",
   "mimetype": "text/x-python",
   "name": "python",
   "nbconvert_exporter": "python",
   "pygments_lexer": "ipython3",
   "version": "3.12.3"
  }
 },
 "nbformat": 4,
 "nbformat_minor": 5
}
